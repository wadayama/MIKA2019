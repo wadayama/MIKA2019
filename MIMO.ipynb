{
 "cells": [
  {
   "cell_type": "markdown",
   "metadata": {},
   "source": [
    "# ニューラルネットーワークに基づく(実数)MIMO検出\n",
    "\n",
    "[![Open In Colab](https://colab.research.google.com/assets/colab-badge.svg)](https://colab.research.google.com/github/wadayama/MIKA2019/blob/master/MIMO.ipynb)\n",
    "\n",
    "本ノートブックでは、ニューラルネットワークにより実数体上のMIMO検出問題を行う。概要は次のとおり。\n",
    "* $H \\in \\mathbb{R}^{4 \\times 4}$: 干渉行列 (各要素は平均0, 分散1のガウス分布に従う)\n",
    "* $y = x H + w$: 受信ベクトル(行ベクトル)\n",
    "* 注意: テキスト(デフォルトで列ベクトル)とは異なっており、行と列が入れ替わっている。本ノートの中ではベクトルはデフォルトで行ベクトル\n",
    "* $x \\in \\{+1, -1 \\}^4$\n",
    "* $w \\in \\mathbb{R}^4$: 各要素が平均0、分散$\\sigma^2$のガウス分布に従う乱数ベクトル\n",
    "* 目標は、受信ベクトルである$y$から送信ベクトル$x$を可能な限り正しく推定すること"
   ]
  },
  {
   "cell_type": "markdown",
   "metadata": {},
   "source": [
    "## 必要なパッケージのインポート"
   ]
  },
  {
   "cell_type": "code",
   "execution_count": 1,
   "metadata": {},
   "outputs": [],
   "source": [
    "import torch # テンソル計算など\n",
    "import torch.nn as nn  # ネットワーク構築用\n",
    "import torch.optim as optim  # 最適化関数"
   ]
  },
  {
   "cell_type": "markdown",
   "metadata": {},
   "source": [
    "## グローバル定数の設定"
   ]
  },
  {
   "cell_type": "code",
   "execution_count": 2,
   "metadata": {},
   "outputs": [],
   "source": [
    "mbs = 50 # ミニバッチサイズ\n",
    "noise_std = 0.5 # 通信路において重畳される加法的白色ガウス雑音の標準偏差 (sigma)\n",
    "n = 4 # アンテナ数\n",
    "h = 50 # 隠れ層のユニット数\n",
    "H = torch.normal(mean=torch.zeros(n, n), std=1.0) # 干渉行列\n",
    "adam_lr = 0.001 # Adamの学習率"
   ]
  },
  {
   "cell_type": "markdown",
   "metadata": {},
   "source": [
    "## 干渉行列の確認"
   ]
  },
  {
   "cell_type": "code",
   "execution_count": 3,
   "metadata": {},
   "outputs": [
    {
     "name": "stdout",
     "output_type": "stream",
     "text": [
      "tensor([[ 0.8177,  0.7228,  1.0234, -0.7565],\n",
      "        [-0.0157, -0.2766, -1.4414,  0.0557],\n",
      "        [-0.7407,  1.1038,  0.1537,  1.1751],\n",
      "        [ 2.6952, -0.7091,  0.3209, -0.2450]])\n"
     ]
    }
   ],
   "source": [
    "print(H)"
   ]
  },
  {
   "cell_type": "markdown",
   "metadata": {},
   "source": [
    "## ネットワークの定義"
   ]
  },
  {
   "cell_type": "code",
   "execution_count": 4,
   "metadata": {},
   "outputs": [],
   "source": [
    "class Net(nn.Module): # nn.Module を継承\n",
    "    def __init__(self): # コンストラクタ\n",
    "        super(Net, self).__init__()\n",
    "        self.detector = nn.Sequential(\n",
    "            nn.Linear(n, h),  # W_1, b_1,\n",
    "            nn.ReLU(), # 活性化関数としてReLUを利用\n",
    "            nn.Linear(h, h), # W_2, b_2\n",
    "            nn.ReLU(),\n",
    "            nn.Linear(h, n)  # W_3, b_3\n",
    "        )\n",
    "    def forward(self, x): # 推論計算をforwardに書く\n",
    "        x = self.detector(x)\n",
    "        x = torch.tanh(x) # x \\in {+1,-1}^4 なので、最終層はtanhを利用\n",
    "        return x"
   ]
  },
  {
   "cell_type": "markdown",
   "metadata": {},
   "source": [
    "## ミニバッチ生成関数"
   ]
  },
  {
   "cell_type": "code",
   "execution_count": 5,
   "metadata": {},
   "outputs": [],
   "source": [
    "def gen_minibatch():\n",
    "    x = 1.0 - 2.0 * torch.randint(0, 2, (mbs, n)) # 送信ベクトル x をランダムに生成\n",
    "    x = x.float()\n",
    "    w = torch.normal(mean=torch.zeros(mbs, n), std = noise_std) # 加法的白色ガウス雑音の生成\n",
    "    y = x @ H.t() + w # @は行列ベクトルの積\n",
    "    return x, y"
   ]
  },
  {
   "cell_type": "markdown",
   "metadata": {},
   "source": [
    "## ミニバッチ生成関数の実行例"
   ]
  },
  {
   "cell_type": "code",
   "execution_count": 6,
   "metadata": {},
   "outputs": [
    {
     "name": "stdout",
     "output_type": "stream",
     "text": [
      "x =  tensor([[ 1., -1., -1., -1.],\n",
      "        [-1.,  1., -1., -1.],\n",
      "        [ 1.,  1., -1.,  1.],\n",
      "        [ 1.,  1., -1., -1.],\n",
      "        [-1., -1., -1.,  1.],\n",
      "        [ 1.,  1., -1.,  1.],\n",
      "        [ 1.,  1., -1., -1.],\n",
      "        [ 1., -1., -1.,  1.],\n",
      "        [ 1., -1.,  1.,  1.],\n",
      "        [ 1.,  1., -1.,  1.],\n",
      "        [ 1., -1., -1.,  1.],\n",
      "        [-1.,  1., -1.,  1.],\n",
      "        [-1., -1., -1.,  1.],\n",
      "        [-1.,  1., -1., -1.],\n",
      "        [ 1.,  1., -1., -1.],\n",
      "        [ 1.,  1., -1., -1.],\n",
      "        [-1.,  1., -1., -1.],\n",
      "        [ 1.,  1.,  1., -1.],\n",
      "        [-1.,  1., -1., -1.],\n",
      "        [-1., -1., -1., -1.],\n",
      "        [-1.,  1.,  1.,  1.],\n",
      "        [ 1.,  1.,  1.,  1.],\n",
      "        [ 1.,  1.,  1., -1.],\n",
      "        [-1., -1.,  1.,  1.],\n",
      "        [ 1.,  1., -1.,  1.],\n",
      "        [ 1., -1., -1.,  1.],\n",
      "        [-1.,  1., -1., -1.],\n",
      "        [ 1., -1., -1.,  1.],\n",
      "        [ 1., -1.,  1.,  1.],\n",
      "        [-1., -1., -1.,  1.],\n",
      "        [ 1.,  1., -1., -1.],\n",
      "        [ 1., -1.,  1.,  1.],\n",
      "        [-1., -1.,  1., -1.],\n",
      "        [-1., -1., -1.,  1.],\n",
      "        [-1.,  1., -1.,  1.],\n",
      "        [-1., -1., -1.,  1.],\n",
      "        [-1.,  1., -1.,  1.],\n",
      "        [ 1.,  1., -1., -1.],\n",
      "        [ 1.,  1., -1.,  1.],\n",
      "        [-1., -1., -1., -1.],\n",
      "        [-1.,  1., -1., -1.],\n",
      "        [ 1.,  1.,  1.,  1.],\n",
      "        [-1.,  1., -1., -1.],\n",
      "        [ 1.,  1., -1.,  1.],\n",
      "        [ 1.,  1.,  1., -1.],\n",
      "        [-1.,  1., -1., -1.],\n",
      "        [-1.,  1., -1.,  1.],\n",
      "        [ 1., -1.,  1.,  1.],\n",
      "        [ 1.,  1.,  1., -1.],\n",
      "        [ 1., -1.,  1.,  1.]])\n",
      "y =  tensor([[-0.9702,  1.0440, -3.4811,  3.7146],\n",
      "        [-0.6655,  0.5500,  0.4182, -3.4720],\n",
      "        [-0.2599,  1.5014,  2.1832,  0.6758],\n",
      "        [ 1.1037,  1.6808, -0.7262,  2.6033],\n",
      "        [-2.7789,  1.7534,  0.7762, -2.4202],\n",
      "        [ 0.1010,  1.6197,  1.2006,  0.7952],\n",
      "        [ 1.5628,  0.5090,  0.0355,  1.7497],\n",
      "        [-1.8180,  1.7012, -1.0013,  2.7291],\n",
      "        [ 1.0236, -0.6864, -0.5806,  4.1116],\n",
      "        [ 0.2427,  2.4694,  1.3844,  1.1796],\n",
      "        [-1.5780,  1.8490, -0.4244,  3.3137],\n",
      "        [-2.5310,  1.0631,  3.1943, -3.9552],\n",
      "        [-3.3567,  2.0549, -0.3182, -3.3940],\n",
      "        [-0.4069,  1.8566,  0.3687, -3.3471],\n",
      "        [ 0.7971,  1.7839, -1.2739,  2.4475],\n",
      "        [ 0.8624,  1.2837, -1.3162,  1.9029],\n",
      "        [ 0.4260,  1.1306,  0.5983, -3.2824],\n",
      "        [ 2.6302, -1.4405, -0.5023,  2.8535],\n",
      "        [-1.1513,  0.8209,  1.1850, -2.7789],\n",
      "        [-2.4470,  2.1294, -1.5978, -1.7822],\n",
      "        [-0.1496, -1.1846,  3.7273, -2.9277],\n",
      "        [ 1.7913, -1.9009,  2.2723,  1.5780],\n",
      "        [ 2.6283, -2.3619, -0.6734,  2.5198],\n",
      "        [ 0.1608, -1.2599,  1.2717, -2.1585],\n",
      "        [ 0.4523,  1.6125,  1.9294,  1.2517],\n",
      "        [-1.6247,  2.2522, -0.5338,  2.6271],\n",
      "        [-0.6916,  0.7087,  0.2793, -3.7194],\n",
      "        [-1.7133,  2.5899, -2.0192,  2.2830],\n",
      "        [ 0.6769, -1.6084, -0.1393,  3.3689],\n",
      "        [-2.7943,  1.9342,  0.4241, -2.6382],\n",
      "        [ 1.6230, -0.1995, -1.1598,  1.7148],\n",
      "        [ 1.0713, -0.7354, -1.1714,  2.9779],\n",
      "        [-0.3953, -1.7481, -2.1911, -2.1841],\n",
      "        [-3.3653,  1.8203,  0.7340, -1.6679],\n",
      "        [-1.4666,  1.6369,  2.8875, -3.6725],\n",
      "        [-2.5289,  0.6353,  0.5557, -2.0806],\n",
      "        [-2.0330,  0.3636,  2.4992, -4.5231],\n",
      "        [ 1.1700,  1.3184, -0.6171,  2.2715],\n",
      "        [-0.5653,  0.7951,  1.9019,  1.3123],\n",
      "        [-1.4080,  1.9555, -2.5107, -2.1085],\n",
      "        [-0.0554,  0.2951,  0.3772, -4.0837],\n",
      "        [ 0.8750, -1.3290,  1.6643,  1.6419],\n",
      "        [-0.9899,  0.8764,  0.0669, -2.8046],\n",
      "        [-0.0188,  0.4553,  0.9939,  1.2005],\n",
      "        [ 4.0530, -1.7931, -0.7739,  2.9390],\n",
      "        [-0.7087,  0.5873,  1.0042, -3.8703],\n",
      "        [-2.7061,  1.2879,  3.6567, -3.4912],\n",
      "        [ 0.9993, -0.8342, -1.1590,  3.2416],\n",
      "        [ 2.6378, -0.8608, -1.7523,  2.1435],\n",
      "        [ 0.9668, -1.7040, -1.1872,  3.5434]])\n"
     ]
    }
   ],
   "source": [
    "x, y = gen_minibatch()\n",
    "print('x = ', x)\n",
    "print('y = ', y)"
   ]
  },
  {
   "cell_type": "markdown",
   "metadata": {},
   "source": [
    "## 訓練ループ"
   ]
  },
  {
   "cell_type": "code",
   "execution_count": 7,
   "metadata": {},
   "outputs": [
    {
     "name": "stdout",
     "output_type": "stream",
     "text": [
      "i = 0 loss = 1.1672343015670776\n",
      "i = 1000 loss = 0.023777686059474945\n",
      "i = 2000 loss = 0.0012315198546275496\n",
      "i = 3000 loss = 0.021719440817832947\n",
      "i = 4000 loss = 0.00998318288475275\n",
      "i = 5000 loss = 0.009479490108788013\n",
      "i = 6000 loss = 0.002496100962162018\n",
      "i = 7000 loss = 0.0020353749860078096\n",
      "i = 8000 loss = 0.001621599541977048\n",
      "i = 9000 loss = 7.357467984547839e-05\n"
     ]
    }
   ],
   "source": [
    "model = Net() # ネットワークインスタンス生成\n",
    "loss_func = nn.MSELoss() # 損失関数の指定(二乗損失関数)\n",
    "optimizer = optim.Adam(model.parameters(), lr=adam_lr) # オプティマイザの指定(Adamを利用)\n",
    "for i in range(10000):\n",
    "    x, y = gen_minibatch() # ミニバッチの生成\n",
    "    optimizer.zero_grad()  # オプティマイザの勾配情報初期化\n",
    "    estimate = model(y)  # 推論計算\n",
    "    loss = loss_func(x, estimate)  # 損失値の計算\n",
    "    loss.backward()  # 誤差逆伝播法(後ろ向き計算の実行)\n",
    "    optimizer.step()  # 学習可能パラメータの更新\n",
    "    if i % 1000 == 0:\n",
    "        print('i =', i, 'loss =', loss.item())"
   ]
  },
  {
   "cell_type": "markdown",
   "metadata": {},
   "source": [
    "## 学習結果の確認"
   ]
  },
  {
   "cell_type": "code",
   "execution_count": 8,
   "metadata": {},
   "outputs": [
    {
     "name": "stdout",
     "output_type": "stream",
     "text": [
      "x =  tensor([[-1., -1.,  1., -1.]])\n",
      "y =  tensor([[ 0.0860, -0.1432, -0.6094, -2.2059]])\n",
      "x_hat =  tensor([[-0.9999, -0.7812,  0.7520, -0.9998]], grad_fn=<TanhBackward>)\n"
     ]
    }
   ],
   "source": [
    "mbs = 1\n",
    "x, y = gen_minibatch()\n",
    "print('x = ', x)\n",
    "print('y = ', y)\n",
    "x_hat = model(y)\n",
    "print('x_hat = ', x_hat)"
   ]
  },
  {
   "cell_type": "markdown",
   "metadata": {},
   "source": [
    "## ゼロフォーシング等化を試す"
   ]
  },
  {
   "cell_type": "code",
   "execution_count": 9,
   "metadata": {},
   "outputs": [
    {
     "name": "stdout",
     "output_type": "stream",
     "text": [
      "x_hat_zero =  tensor([[-0.9388, -0.0515,  0.0780, -1.0721]])\n"
     ]
    }
   ],
   "source": [
    "Hinv = torch.inverse(H.t()) # H の逆行列を生成\n",
    "x_hat_zero = y @ Hinv # 受信ベクトルに逆行列を乗じる\n",
    "print('x_hat_zero = ', x_hat_zero)"
   ]
  },
  {
   "cell_type": "markdown",
   "metadata": {},
   "source": [
    "## シンボル誤り率を測定する (ニューラル検出器)"
   ]
  },
  {
   "cell_type": "code",
   "execution_count": 12,
   "metadata": {},
   "outputs": [
    {
     "name": "stdout",
     "output_type": "stream",
     "text": [
      "total_syms =  4000\n",
      "error_syms =  8\n",
      "error prob =  0.002\n"
     ]
    }
   ],
   "source": [
    "total_syms = 0\n",
    "error_syms = 0\n",
    "num_loops  = 1000\n",
    "mbs = 1\n",
    "with torch.no_grad(): # 学習しない場合は計算グラフの構築をする必要がないので、torch.no_grad()で推論計算部分を包む\n",
    "    for i in range(num_loops):\n",
    "        x, y = gen_minibatch()\n",
    "        x_hat = model(y)\n",
    "        total_syms += n\n",
    "        error_syms += (torch.sign(x_hat) != x).sum().item() # 硬判定して送信ベクトルと比較\n",
    "print('total_syms = ', total_syms)\n",
    "print('error_syms = ', error_syms)\n",
    "print('error prob = ', error_syms/total_syms)"
   ]
  },
  {
   "cell_type": "markdown",
   "metadata": {},
   "source": [
    "## シンボル誤り率を測定する(ZF検出器)"
   ]
  },
  {
   "cell_type": "code",
   "execution_count": 13,
   "metadata": {},
   "outputs": [
    {
     "name": "stdout",
     "output_type": "stream",
     "text": [
      "total_syms =  4000\n",
      "error_syms =  40\n",
      "error prob =  0.01\n"
     ]
    }
   ],
   "source": [
    "total_syms = 0\n",
    "error_syms = 0\n",
    "num_loops  = 1000\n",
    "mbs = 1\n",
    "Hinv = torch.inverse(H.t())\n",
    "for i in range(num_loops):\n",
    "    x, y = gen_minibatch()\n",
    "    x_hat = y @ Hinv\n",
    "    total_syms += n\n",
    "    error_syms += (torch.sign(x_hat) != x).sum().item()\n",
    "print('total_syms = ', total_syms)\n",
    "print('error_syms = ', error_syms)\n",
    "print('error prob = ', error_syms/total_syms)"
   ]
  },
  {
   "cell_type": "code",
   "execution_count": null,
   "metadata": {},
   "outputs": [],
   "source": []
  }
 ],
 "metadata": {
  "kernelspec": {
   "display_name": "Python 3 (ipykernel)",
   "language": "python",
   "name": "python3"
  },
  "language_info": {
   "codemirror_mode": {
    "name": "ipython",
    "version": 3
   },
   "file_extension": ".py",
   "mimetype": "text/x-python",
   "name": "python",
   "nbconvert_exporter": "python",
   "pygments_lexer": "ipython3",
   "version": "3.8.12"
  }
 },
 "nbformat": 4,
 "nbformat_minor": 4
}
